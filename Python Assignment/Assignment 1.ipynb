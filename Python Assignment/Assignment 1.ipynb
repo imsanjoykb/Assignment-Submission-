{
 "cells": [
  {
   "cell_type": "markdown",
   "metadata": {},
   "source": [
    "### Assignment Submitted By :\n",
    "### Name : Sanjoy Biswas"
   ]
  },
  {
   "cell_type": "markdown",
   "metadata": {},
   "source": [
    "<h4>Question 1. Write a program which will find all such numbers which are divisible by 7 but are not a multiple of 5, between 2000 and 3200 (both included). The numbers obtained should be printed in a comma-separated sequence on a single line. <h4>"
   ]
  },
  {
   "cell_type": "code",
   "execution_count": 1,
   "metadata": {},
   "outputs": [],
   "source": [
    "initial = 2000\n",
    "end = 3200\n",
    "\n",
    "number = []\n",
    "\n",
    "for num in range(initial,end+1):\n",
    "    if num%7 == 0 and num%5 != 0:\n",
    "        number.append(num)\n",
    "print(number)"
   ]
  },
  {
   "cell_type": "markdown",
   "metadata": {},
   "source": [
    "<h4>Question 2 : Write a Python program to accept the user's first and last name and then getting them printed in the the reverse order with a space between first name and last name. <h4>"
   ]
  },
  {
   "cell_type": "code",
   "execution_count": 2,
   "metadata": {},
   "outputs": [
    {
     "name": "stdout",
     "output_type": "stream",
     "text": [
      "Type first name: Sanjoy\n",
      "Type last name: Biswas\n",
      "yojnaS sawsiB\n"
     ]
    }
   ],
   "source": [
    "first_nm = input(\"Type first name: \")\n",
    "last_nm = input(\"Type last name: \")\n",
    "print(first_nm[::-1], last_nm[::-1])"
   ]
  },
  {
   "cell_type": "markdown",
   "metadata": {},
   "source": [
    "<h4>Question 3 : Write a Python program to find the volume of a sphere with diameter 12 cm. Formula: V=4/3 π r^3 <h4>"
   ]
  },
  {
   "cell_type": "code",
   "execution_count": 3,
   "metadata": {},
   "outputs": [
    {
     "name": "stdout",
     "output_type": "stream",
     "text": [
      "904.7786842338603\n"
     ]
    }
   ],
   "source": [
    "import math #import python math mdule\n",
    "\n",
    "diameter = 12\n",
    "volume = 4/3 * math.pi * ((diameter/2)**3)\n",
    "print(volume)"
   ]
  },
  {
   "cell_type": "code",
   "execution_count": null,
   "metadata": {},
   "outputs": [],
   "source": []
  }
 ],
 "metadata": {
  "kernelspec": {
   "display_name": "Python 3",
   "language": "python",
   "name": "python3"
  },
  "language_info": {
   "codemirror_mode": {
    "name": "ipython",
    "version": 3
   },
   "file_extension": ".py",
   "mimetype": "text/x-python",
   "name": "python",
   "nbconvert_exporter": "python",
   "pygments_lexer": "ipython3",
   "version": "3.7.4"
  }
 },
 "nbformat": 4,
 "nbformat_minor": 2
}
